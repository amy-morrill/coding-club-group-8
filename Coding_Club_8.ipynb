{
 "cells": [
  {
   "attachments": {},
   "cell_type": "markdown",
   "metadata": {},
   "source": [
    "# Group 8 Coding Club Notes"
   ]
  },
  {
   "attachments": {},
   "cell_type": "markdown",
   "metadata": {},
   "source": [
    "Components for the game:\n",
    "- Logic:\n",
    "    - What rules do we want to define for the game?\n",
    "    - What words can be guessed? How to we decide?\n",
    "    - Example: what is the max number of guesses? Can a player guess the same letter multiple times?\n",
    "- Data structures:\n",
    "    - What different elements / information do we need to store?\n",
    "    - How do the elements we need to store relate to each other?\n",
    "- UI:\n",
    "    - How do we want the game to look? What different visual elements do we need?\n",
    "    - How does the UI relate to the logic / data we're storing? (example: do we want to gray out letters after they are guessed?)\n",
    "    - Graphics Components"
   ]
  },
  {
   "cell_type": "code",
   "execution_count": 8,
   "metadata": {},
   "outputs": [],
   "source": [
    "# Example UI with user interaction:\n",
    "\n",
    "import tkinter as tk\n",
    "\n",
    "# Create main window to display things in\n",
    "window = tk.Tk()\n",
    "\n",
    "# Set window size\n",
    "window.geometry(\"600x600\")\n",
    "\n",
    "# Create header label\n",
    "header_label = tk.Label(window, text=\"Amy's Sample UI\", width=1000, font=(\"Courier\", 40, \"bold\"))\n",
    "\n",
    "# Create label asking the user to submit their name\n",
    "name_label = tk.Label(window, text = \"What's your name?\", font=('calibre',10, 'bold'))\n",
    "\n",
    "# Create string variable to store submitted name in\n",
    "# Create an Entry widget for the user to submit their name\n",
    "name_var=tk.StringVar()\n",
    "name_entry = tk.Entry(window, textvariable = name_var, font=('calibre',10,'normal'))\n",
    "\n",
    "# Define a function to execute when a user submits a name\n",
    "def submit():\n",
    "    name=name_var.get()\n",
    "    print(\"The name is : \" + name)\n",
    "    display_var.set(f\"Hi, {name}! Welcome to my UI\")\n",
    "    name_var.set(\"\")\n",
    "\n",
    "# Create a button that executes the submit function when clicked\n",
    "submit_button=tk.Button(window,text = 'Submit', command = submit)\n",
    "\n",
    "# Create string variable to store string to display\n",
    "# Set to empty string to start\n",
    "# Create a label for display string\n",
    "display_var = tk.StringVar()\n",
    "display_var.set(\"\")\n",
    "display_label = tk.Label(window, textvariable = display_var, font=('calibre', 10, 'normal'))\n",
    "\n",
    "# Create photo image widget to display scientist\n",
    "scientist_image = tk.PhotoImage(file=\"/Users/amy.morrill/Desktop/scientist-beaker-test-tube-animated-f.gif\")\n",
    "scientist_image_label = tk.Label(window, image=scientist_image)\n",
    "\n",
    "# Create a function to reveal scientist image\n",
    "def reveal_scientist_image():\n",
    "    scientist_image_label.pack()\n",
    "\n",
    "# Create a button to reveal scientist image\n",
    "reveal_scientist_button=tk.Button(window, text=\"Reveal scientist\", command=reveal_scientist_image)\n",
    " \n",
    "# Place all elements defined above in order using \"pack\"\n",
    "header_label.pack()\n",
    "name_label.pack()\n",
    "name_entry.pack()\n",
    "submit_button.pack()\n",
    "display_label.pack()\n",
    "reveal_scientist_button.pack()\n",
    " \n",
    "window.mainloop()"
   ]
  },
  {
   "cell_type": "code",
   "execution_count": null,
   "metadata": {},
   "outputs": [],
   "source": []
  }
 ],
 "metadata": {
  "kernelspec": {
   "display_name": "mpi-encounters-K3JW-4XR-py3.11",
   "language": "python",
   "name": "python3"
  },
  "language_info": {
   "codemirror_mode": {
    "name": "ipython",
    "version": 3
   },
   "file_extension": ".py",
   "mimetype": "text/x-python",
   "name": "python",
   "nbconvert_exporter": "python",
   "pygments_lexer": "ipython3",
   "version": "3.11.11"
  },
  "orig_nbformat": 4
 },
 "nbformat": 4,
 "nbformat_minor": 2
}
