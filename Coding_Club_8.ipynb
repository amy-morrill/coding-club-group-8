{
 "cells": [
  {
   "attachments": {},
   "cell_type": "markdown",
   "metadata": {},
   "source": [
    "# Group 8 Coding Club Notes"
   ]
  },
  {
   "attachments": {},
   "cell_type": "markdown",
   "metadata": {},
   "source": [
    "Components for the game:\n",
    "- Logic:\n",
    "    - What rules do we want to define for the game?\n",
    "    - What words can be guessed? How to we decide?\n",
    "    - Example: what is the max number of guesses? Can a player guess the same letter multiple times?\n",
    "- Data structures:\n",
    "    - What different elements / information do we need to store?\n",
    "    - How do the elements we need to store relate to each other?\n",
    "- UI:\n",
    "    - How do we want the game to look? What different visual elements do we need?\n",
    "    - How does the UI relate to the logic / data we're storing? (example: do we want to gray out letters after they are guessed?)\n",
    "    - Graphics Components"
   ]
  },
  {
   "attachments": {},
   "cell_type": "markdown",
   "metadata": {},
   "source": []
  },
  {
   "cell_type": "code",
   "execution_count": 1,
   "metadata": {},
   "outputs": [
    {
     "name": "stdout",
     "output_type": "stream",
     "text": [
      "The name is : amy\n"
     ]
    },
    {
     "name": "stderr",
     "output_type": "stream",
     "text": [
      "Bad pipe message: %s [b'\\x87-\\xec?&\\xc9\\xdf\\xde\\xbf\\xe3\\xd1At+(\\xe3\\xaf\\xdd\\x00\\x01|\\x00\\x00\\x00\\x01\\x00\\x02\\x00']\n",
      "Bad pipe message: %s [b'\\x17a\\x0c\\x07\\xc5I\\x86\\r?P(\\xa1\\x8c\\x06\\x88\\x14\\xfa\\xf6\\x00\\x01|\\x00\\x00\\x00\\x01\\x00\\x02\\x00\\x03\\x00\\x04\\x00\\x05\\x00\\x06\\x00\\x07\\x00\\x08\\x00\\t\\x00\\n\\x00\\x0b\\x00\\x0c\\x00\\r\\x00\\x0e\\x00\\x0f\\x00\\x10\\x00\\x11\\x00\\x12\\x00\\x13\\x00\\x14\\x00\\x15\\x00\\x16\\x00\\x17\\x00\\x18\\x00\\x19\\x00\\x1a\\x00\\x1b\\x00/\\x000\\x001\\x002\\x003']\n",
      "Bad pipe message: %s [b'\\xe46\\xe5v\\xdc\\xee\\xad\\xb4\\x92\\x12A\\x83+\\xf5\\x99\\xb5i%\\x00\\x01|\\x00\\x00\\x00\\x01\\x00\\x02\\x00\\x03\\x00\\x04\\x00\\x05\\x00\\x06\\x00\\x07\\x00\\x08\\x00\\t\\x00\\n\\x00\\x0b\\x00\\x0c\\x00\\r\\x00\\x0e\\x00\\x0f\\x00\\x10\\x00\\x11\\x00\\x12\\x00\\x13\\x00\\x14\\x00\\x15\\x00\\x16\\x00\\x17\\x00\\x18\\x00\\x19\\x00\\x1a\\x00\\x1b\\x00/\\x000\\x001\\x002\\x003\\x004\\x005\\x006\\x007\\x008\\x009\\x00:\\x00;\\x00<\\x00=\\x00>\\x00?\\x00@\\x00A\\x00B\\x00C\\x00D\\x00E\\x00F\\x00g\\x00h\\x00i\\x00j\\x00k\\x00l\\x00m\\x00\\x84\\x00\\x85\\x00\\x86\\x00\\x87\\x00\\x88\\x00\\x89\\x00\\x96\\x00\\x97\\x00\\x98\\x00\\x99']\n",
      "Bad pipe message: %s [b'\\x04\\x00']\n",
      "Bad pipe message: %s [b'\\x06\\x00\\x07\\x00']\n",
      "Bad pipe message: %s [b'\\t\\x00\\n\\x00\\x0b\\x00\\x0c']\n"
     ]
    }
   ],
   "source": [
    "# Example UI with user interaction:\n",
    "\n",
    "import tkinter as tk\n",
    "\n",
    "# Create main window to display things in\n",
    "window = tk.Tk()\n",
    "\n",
    "# Set window size\n",
    "window.geometry(\"600x600\")\n",
    "\n",
    "# Create header label\n",
    "header_label = tk.Label(window, text=\"Amy's Sample UI\", width=1000, font=(\"Courier\", 40, \"bold\"))\n",
    "\n",
    "# Create label asking the user to submit their name\n",
    "name_label = tk.Label(window, text = \"What's your name?\", font=('calibre',10, 'bold'))\n",
    "\n",
    "# Create string variable to store submitted name in\n",
    "# Create an Entry widget for the user to submit their name\n",
    "name_var=tk.StringVar()\n",
    "name_entry = tk.Entry(window, textvariable = name_var, font=('calibre',10,'normal'))\n",
    "\n",
    "# Define a function to execute when a user submits a name\n",
    "def submit():\n",
    "    name=name_var.get()\n",
    "    print(\"The name is : \" + name)\n",
    "    display_var.set(f\"Hi, {name}! Welcome to my UI\")\n",
    "    name_var.set(\"\")\n",
    "\n",
    "# Create a button that executes the submit function when clicked\n",
    "submit_button=tk.Button(window,text = 'Submit', command = submit)\n",
    "\n",
    "# Create string variable to store string to display\n",
    "# Set to empty string to start\n",
    "# Create a label for display string\n",
    "display_var = tk.StringVar()\n",
    "display_var.set(\"\")\n",
    "display_label = tk.Label(window, textvariable = display_var, font=('calibre', 10, 'normal'))\n",
    "\n",
    "# Create photo image widget to display scientist\n",
    "scientist_image = tk.PhotoImage(file=\"/Users/amy.morrill/Desktop/scientist-beaker-test-tube-animated-f.gif\")\n",
    "scientist_image_label = tk.Label(window, image=scientist_image)\n",
    "\n",
    "# Create a function to reveal scientist image\n",
    "def reveal_scientist_image():\n",
    "    scientist_image_label.pack()\n",
    "\n",
    "# Create a button to reveal scientist image\n",
    "reveal_scientist_button=tk.Button(window, text=\"Reveal scientist\", command=reveal_scientist_image)\n",
    " \n",
    "# Place all elements defined above in order using \"pack\"\n",
    "header_label.pack()\n",
    "name_label.pack()\n",
    "name_entry.pack()\n",
    "submit_button.pack()\n",
    "display_label.pack()\n",
    "reveal_scientist_button.pack()\n",
    " \n",
    "window.mainloop()"
   ]
  },
  {
   "cell_type": "code",
   "execution_count": null,
   "metadata": {},
   "outputs": [],
   "source": []
  }
 ],
 "metadata": {
  "kernelspec": {
   "display_name": "mpi-encounters-K3JW-4XR-py3.11",
   "language": "python",
   "name": "python3"
  },
  "language_info": {
   "codemirror_mode": {
    "name": "ipython",
    "version": 3
   },
   "file_extension": ".py",
   "mimetype": "text/x-python",
   "name": "python",
   "nbconvert_exporter": "python",
   "pygments_lexer": "ipython3",
   "version": "3.11.11"
  },
  "orig_nbformat": 4
 },
 "nbformat": 4,
 "nbformat_minor": 2
}
